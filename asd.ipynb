{
 "cells": [
  {
   "cell_type": "code",
   "execution_count": 4,
   "metadata": {},
   "outputs": [],
   "source": [
    "import numpy as np\n",
    "from matplotlib import pyplot as plt\n",
    "from prova import best_fit, gaus, clean_data\n",
    "\n",
    "\n",
    "\n",
    "\n"
   ]
  },
  {
   "cell_type": "code",
   "execution_count": 19,
   "metadata": {},
   "outputs": [
    {
     "ename": "ValueError",
     "evalue": "not enough values to unpack (expected 6, got 5)",
     "output_type": "error",
     "traceback": [
      "\u001b[1;31m---------------------------------------------------------------------------\u001b[0m",
      "\u001b[1;31mValueError\u001b[0m                                Traceback (most recent call last)",
      "Cell \u001b[1;32mIn[19], line 26\u001b[0m\n\u001b[0;32m     22\u001b[0m y_output \u001b[39m=\u001b[39m gaus(z, C\u001b[39m=\u001b[39mpopt[\u001b[39m0\u001b[39m],mean\u001b[39m=\u001b[39mpopt[\u001b[39m1\u001b[39m],sigma\u001b[39m=\u001b[39mpopt[\u001b[39m2\u001b[39m])\n\u001b[0;32m     24\u001b[0m plt\u001b[39m.\u001b[39mplot(z,y_output)\n\u001b[1;32m---> 26\u001b[0m y,E,dy,dE,_,binstot\u001b[39m=\u001b[39mclean_data(file[i], inf[i], sup[i], sorgenti[i])\n\u001b[0;32m     27\u001b[0m plt\u001b[39m.\u001b[39mhist(E, bins\u001b[39m=\u001b[39mbinstot, histtype\u001b[39m=\u001b[39m\u001b[39m'\u001b[39m\u001b[39mstep\u001b[39m\u001b[39m'\u001b[39m)\n\u001b[0;32m     28\u001b[0m \u001b[39m#plt.errorbar(E,y,dy,dE,' ')\u001b[39;00m\n",
      "\u001b[1;31mValueError\u001b[0m: not enough values to unpack (expected 6, got 5)"
     ]
    },
    {
     "data": {
      "image/png": "[encoded data removed]",
      "text/plain": [
       "<Figure size 640x480 with 1 Axes>"
      ]
     },
     "metadata": {},
     "output_type": "display_data"
    }
   ],
   "source": [
    "sorgenti = [\"americio\", \"sodio1\", \"cesio\", \"cobalto1\", \"sodio2\", \"cobalto2\"]\n",
    "file = [r\"Data\\290323\\290323_americio2.dat\",\n",
    "        r\"Data\\290323\\290323_sodio2.dat\",\n",
    "        r\"Data\\290323\\290323_cesio2.dat\",\n",
    "        r\"Data\\290323\\290323_cobalto2.dat\",\n",
    "        r\"Data\\290323\\290323_sodio2.dat\",\n",
    "        r\"Data\\290323\\290323_cobalto2.dat\"]\n",
    "inf = np.array([286, 2565, 3331, 5820, 6133, 6565])\n",
    "sup = np.array([400, 2840, 3800, 6280, 6862, 7020])\n",
    "theta = np.radians(22)\n",
    "\n",
    "media = []\n",
    "err_media = []\n",
    "\n",
    "larghezza = []\n",
    "err_larghezza = []\n",
    "\n",
    "for i in range(len(inf)):\n",
    "     popt, pcov, minimo, massimo =best_fit(file[i], inf[i], sup[i], sorgenti[i])\n",
    "\n",
    "     z=np.linspace(minimo, massimo, 100000)\n",
    "     y_output = gaus(z, C=popt[0],mean=popt[1],sigma=popt[2])\n",
    "    \n",
    "     plt.plot(z,y_output)\n",
    "\n",
    "     y,E,dy,dE,_=clean_data(file[i], inf[i], sup[i], sorgenti[i])\n",
    "     plt.errorbar(E,y,dy,dE,' ')\n",
    "\n",
    "     left=min(E)\n",
    "     right=max(E)\n",
    "\n",
    "     left=left-(right+left)/100\n",
    "     right=right+(right+left)/100\n",
    "     plt.xlim(left=left,right=right)\n",
    "     plt.show()\n",
    "\n",
    "     media.append([popt[1]])\n",
    "     err_media.append(np.sqrt(pcov[1][1]))\n",
    "\n",
    "     larghezza.append([popt[2]])\n",
    "     err_media.append(np.sqrt(pcov[2][2]))\n",
    "  \n",
    "\n",
    "media=np.array(media)\n",
    "err_media=np.array(err_media)\n",
    "\n",
    "larghezza=np.array(larghezza)\n",
    "err_larghezza=np.array(err_larghezza)\n",
    "\n"
   ]
  },
  {
   "cell_type": "code",
   "execution_count": null,
   "metadata": {},
   "outputs": [],
   "source": []
  },
  {
   "cell_type": "code",
   "execution_count": 13,
   "metadata": {},
   "outputs": [
    {
     "name": "stdout",
     "output_type": "stream",
     "text": [
      "[[ 317.91093281]\n",
      " [2697.9768894 ]\n",
      " [3500.3038535 ]\n",
      " [6011.28045745]\n",
      " [6480.0051168 ]\n",
      " [6784.96483832]]\n"
     ]
    }
   ],
   "source": [
    "print(media)"
   ]
  },
  {
   "cell_type": "code",
   "execution_count": null,
   "metadata": {},
   "outputs": [],
   "source": []
  }
 ],
 "metadata": {
  "kernelspec": {
   "display_name": "base",
   "language": "python",
   "name": "python3"
  },
  "language_info": {
   "codemirror_mode": {
    "name": "ipython",
    "version": 3
   },
   "file_extension": ".py",
   "mimetype": "text/x-python",
   "name": "python",
   "nbconvert_exporter": "python",
   "pygments_lexer": "ipython3",
   "version": "3.10.9"
  },
  "orig_nbformat": 4
 },
 "nbformat": 4,
 "nbformat_minor": 2
}
