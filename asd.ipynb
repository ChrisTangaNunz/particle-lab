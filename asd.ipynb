{
 "cells": [
  {
   "cell_type": "code",
   "execution_count": 27,
   "metadata": {},
   "outputs": [],
   "source": [
    "import numpy as np\n",
    "from matplotlib import pyplot as plt\n",
    "from prova import *\n",
    "\n",
    "\n",
    "\n",
    "\n"
   ]
  },
  {
   "cell_type": "code",
   "execution_count": 30,
   "metadata": {},
   "outputs": [
    {
     "name": "stdout",
     "output_type": "stream",
     "text": [
      "_______________________________\n",
      "Media americio :  317.9109328072518\n",
      "Errore media americio :  0.27465121258571856\n",
      "_______________________________\n",
      "Sigma americio :  21.63698931423562\n",
      "Errore sigma americio :  0.21735010518064182\n",
      "Ampiezza:  16031.217273332966\n",
      "Chisquare = 1582.6\n",
      "63.303308655565736\n",
      "_______________________________\n",
      "Media sodio1 :  2697.9768893954733\n",
      "Errore media sodio1 :  1.5357832056037133\n",
      "_______________________________\n",
      "Sigma sodio1 :  98.40141460442791\n",
      "Errore sigma sodio1 :  2.125028060051069\n",
      "Ampiezza:  1416.0309438813745\n",
      "Chisquare = 30.9\n",
      "2.210616329771279\n",
      "_______________________________\n",
      "Media cesio :  3500.303853496632\n",
      "Errore media cesio :  1.1889707286029856\n",
      "_______________________________\n",
      "Sigma cesio :  109.38742412838955\n",
      "Errore sigma cesio :  1.0025229514812815\n",
      "Ampiezza:  4876.75978059082\n",
      "Chisquare = 144.6\n",
      "5.560800927509131\n",
      "_______________________________\n",
      "Media cobalto1 :  6011.280457453264\n",
      "Errore media cobalto1 :  2.3745247791768938\n",
      "_______________________________\n",
      "Sigma cobalto1 :  152.46553514524575\n",
      "Errore sigma cobalto1 :  2.765600705948039\n",
      "Ampiezza:  1375.9456144191442\n",
      "Chisquare = 75.5\n",
      "3.0188548204106445\n",
      "_______________________________\n",
      "Media sodio2 :  6480.005116804132\n",
      "Errore media sodio2 :  3.9456908557340262\n",
      "_______________________________\n",
      "Sigma sodio2 :  173.8425821490964\n",
      "Errore sigma sodio2 :  3.8482840670131133\n",
      "Ampiezza:  140.2830659903086\n",
      "Chisquare = 100.1\n",
      "2.3833067577494456\n",
      "_______________________________\n",
      "Media cobalto2 :  6784.964838316934\n",
      "Errore media cobalto2 :  2.0179837242835323\n",
      "_______________________________\n",
      "Sigma cobalto2 :  152.6615782485971\n",
      "Errore sigma cobalto2 :  2.6047077112018786\n",
      "Ampiezza:  1067.5517994707639\n",
      "Chisquare = 54.7\n",
      "2.187714502538058\n"
     ]
    },
    {
     "ename": "TypeError",
     "evalue": "expected x and y to have same length",
     "output_type": "error",
     "traceback": [
      "\u001b[1;31m---------------------------------------------------------------------------\u001b[0m",
      "\u001b[1;31mTypeError\u001b[0m                                 Traceback (most recent call last)",
      "Cell \u001b[1;32mIn[30], line 29\u001b[0m\n\u001b[0;32m     23\u001b[0m larghezza \u001b[39m=\u001b[39m np\u001b[39m.\u001b[39marray(larghezza)\n\u001b[0;32m     24\u001b[0m err_larghezza \u001b[39m=\u001b[39m np\u001b[39m.\u001b[39marray(err_larghezza)\n\u001b[1;32m---> 29\u001b[0m conversione_lin_plot(media, err_media)\n\u001b[0;32m     30\u001b[0m conversione_quad(media, err_media)\n\u001b[0;32m     31\u001b[0m risoluzione_quad(larghezza, err_larghezza)                                              \n",
      "File \u001b[1;32mc:\\Users\\chris\\Documents\\Laurea Magistrale\\particle-lab\\prova.py:173\u001b[0m, in \u001b[0;36mconversione_lin_plot\u001b[1;34m(pippo, baudo)\u001b[0m\n\u001b[0;32m    169\u001b[0m weights\u001b[39m=\u001b[39m\u001b[39m1\u001b[39m\u001b[39m/\u001b[39mbaudo\n\u001b[0;32m    171\u001b[0m energie \u001b[39m=\u001b[39m np\u001b[39m.\u001b[39marray([\u001b[39m0.060\u001b[39m, \u001b[39m0.511\u001b[39m, \u001b[39m0.662\u001b[39m, \u001b[39m1.173\u001b[39m, \u001b[39m1.275\u001b[39m, \u001b[39m1.333\u001b[39m])\n\u001b[1;32m--> 173\u001b[0m z, cov \u001b[39m=\u001b[39m np\u001b[39m.\u001b[39;49mpolyfit(energie, pippo, deg \u001b[39m=\u001b[39;49m \u001b[39m1\u001b[39;49m, w \u001b[39m=\u001b[39;49m weights, full \u001b[39m=\u001b[39;49m \u001b[39mFalse\u001b[39;49;00m, cov \u001b[39m=\u001b[39;49m \u001b[39m'\u001b[39;49m\u001b[39munscaled\u001b[39;49m\u001b[39m'\u001b[39;49m)\n\u001b[0;32m    175\u001b[0m \u001b[39m#global conversione\u001b[39;00m\n\u001b[0;32m    176\u001b[0m conversione \u001b[39m=\u001b[39m z[\u001b[39m0\u001b[39m]\n",
      "File \u001b[1;32m<__array_function__ internals>:180\u001b[0m, in \u001b[0;36mpolyfit\u001b[1;34m(*args, **kwargs)\u001b[0m\n",
      "File \u001b[1;32mc:\\Users\\chris\\anaconda3\\lib\\site-packages\\numpy\\lib\\polynomial.py:642\u001b[0m, in \u001b[0;36mpolyfit\u001b[1;34m(x, y, deg, rcond, full, w, cov)\u001b[0m\n\u001b[0;32m    640\u001b[0m     \u001b[39mraise\u001b[39;00m \u001b[39mTypeError\u001b[39;00m(\u001b[39m\"\u001b[39m\u001b[39mexpected 1D or 2D array for y\u001b[39m\u001b[39m\"\u001b[39m)\n\u001b[0;32m    641\u001b[0m \u001b[39mif\u001b[39;00m x\u001b[39m.\u001b[39mshape[\u001b[39m0\u001b[39m] \u001b[39m!=\u001b[39m y\u001b[39m.\u001b[39mshape[\u001b[39m0\u001b[39m]:\n\u001b[1;32m--> 642\u001b[0m     \u001b[39mraise\u001b[39;00m \u001b[39mTypeError\u001b[39;00m(\u001b[39m\"\u001b[39m\u001b[39mexpected x and y to have same length\u001b[39m\u001b[39m\"\u001b[39m)\n\u001b[0;32m    644\u001b[0m \u001b[39m# set rcond\u001b[39;00m\n\u001b[0;32m    645\u001b[0m \u001b[39mif\u001b[39;00m rcond \u001b[39mis\u001b[39;00m \u001b[39mNone\u001b[39;00m:\n",
      "\u001b[1;31mTypeError\u001b[0m: expected x and y to have same length"
     ]
    }
   ],
   "source": [
    "sorgenti = [\"americio\", \"sodio1\", \"cesio\", \"cobalto1\", \"sodio2\", \"cobalto2\"]\n",
    "file = [r\"Data\\290323\\290323_americio2.dat\",\n",
    "        r\"Data\\290323\\290323_sodio2.dat\",\n",
    "        r\"Data\\290323\\290323_cesio2.dat\",\n",
    "        r\"Data\\290323\\290323_cobalto2.dat\",\n",
    "        r\"Data\\290323\\290323_sodio2.dat\",\n",
    "        r\"Data\\290323\\290323_cobalto2.dat\"]\n",
    "inf = np.array([286, 2565, 3331, 5820, 6133, 6565])\n",
    "sup = np.array([400, 2840, 3800, 6280, 6862, 7020])\n",
    "theta = np.radians(22)\n",
    "\n",
    "media = []\n",
    "err_media = []\n",
    "\n",
    "larghezza = []\n",
    "err_larghezza = []\n",
    "\n",
    "for i in range(6):\n",
    "     popt, pcov =best_fit(file[i], inf[i], sup[i], sorgenti[i])\n",
    "\n",
    "\n",
    "\n"
   ]
  },
  {
   "cell_type": "code",
   "execution_count": null,
   "metadata": {},
   "outputs": [],
   "source": []
  },
  {
   "cell_type": "code",
   "execution_count": 29,
   "metadata": {},
   "outputs": [
    {
     "name": "stdout",
     "output_type": "stream",
     "text": [
      "[]\n"
     ]
    }
   ],
   "source": [
    "print(media)"
   ]
  },
  {
   "cell_type": "code",
   "execution_count": null,
   "metadata": {},
   "outputs": [],
   "source": []
  }
 ],
 "metadata": {
  "kernelspec": {
   "display_name": "base",
   "language": "python",
   "name": "python3"
  },
  "language_info": {
   "codemirror_mode": {
    "name": "ipython",
    "version": 3
   },
   "file_extension": ".py",
   "mimetype": "text/x-python",
   "name": "python",
   "nbconvert_exporter": "python",
   "pygments_lexer": "ipython3",
   "version": "3.10.9"
  },
  "orig_nbformat": 4
 },
 "nbformat": 4,
 "nbformat_minor": 2
}
